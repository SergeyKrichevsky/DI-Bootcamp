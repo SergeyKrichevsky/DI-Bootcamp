{
 "cells": [
  {
   "cell_type": "code",
   "execution_count": 40,
   "id": "a79905a6",
   "metadata": {},
   "outputs": [],
   "source": [
    "import pandas as pd"
   ]
  },
  {
   "cell_type": "code",
   "execution_count": 41,
   "id": "41993081",
   "metadata": {},
   "outputs": [],
   "source": [
    "df_sleep = pd.read_csv(\"Time Americans Spend Sleeping.csv\")"
   ]
  },
  {
   "cell_type": "code",
   "execution_count": 42,
   "id": "af0216d2",
   "metadata": {},
   "outputs": [
    {
     "data": {
      "text/plain": [
       "(945, 9)"
      ]
     },
     "execution_count": 42,
     "metadata": {},
     "output_type": "execute_result"
    }
   ],
   "source": [
    "df_sleep.shape"
   ]
  },
  {
   "cell_type": "code",
   "execution_count": 43,
   "id": "ba27e0b6",
   "metadata": {},
   "outputs": [
    {
     "data": {
      "text/plain": [
       "Index(['index', 'Year', 'Period', 'Avg hrs per day sleeping', 'Standard Error',\n",
       "       'Type of Days', 'Age Group', 'Activity', 'Sex'],\n",
       "      dtype='object')"
      ]
     },
     "execution_count": 43,
     "metadata": {},
     "output_type": "execute_result"
    }
   ],
   "source": [
    "df_sleep.columns"
   ]
  },
  {
   "cell_type": "code",
   "execution_count": 44,
   "id": "01f68fbf",
   "metadata": {},
   "outputs": [
    {
     "data": {
      "text/html": [
       "<div>\n",
       "<style scoped>\n",
       "    .dataframe tbody tr th:only-of-type {\n",
       "        vertical-align: middle;\n",
       "    }\n",
       "\n",
       "    .dataframe tbody tr th {\n",
       "        vertical-align: top;\n",
       "    }\n",
       "\n",
       "    .dataframe thead th {\n",
       "        text-align: right;\n",
       "    }\n",
       "</style>\n",
       "<table border=\"1\" class=\"dataframe\">\n",
       "  <thead>\n",
       "    <tr style=\"text-align: right;\">\n",
       "      <th></th>\n",
       "      <th>index</th>\n",
       "      <th>Year</th>\n",
       "      <th>Period</th>\n",
       "      <th>Avg hrs per day sleeping</th>\n",
       "      <th>Standard Error</th>\n",
       "      <th>Type of Days</th>\n",
       "      <th>Age Group</th>\n",
       "      <th>Activity</th>\n",
       "      <th>Sex</th>\n",
       "    </tr>\n",
       "  </thead>\n",
       "  <tbody>\n",
       "    <tr>\n",
       "      <th>0</th>\n",
       "      <td>0</td>\n",
       "      <td>2003</td>\n",
       "      <td>Annual</td>\n",
       "      <td>8.57</td>\n",
       "      <td>0.018</td>\n",
       "      <td>All days</td>\n",
       "      <td>15 years and over</td>\n",
       "      <td>Sleeping</td>\n",
       "      <td>Both</td>\n",
       "    </tr>\n",
       "    <tr>\n",
       "      <th>1</th>\n",
       "      <td>1</td>\n",
       "      <td>2004</td>\n",
       "      <td>Annual</td>\n",
       "      <td>8.55</td>\n",
       "      <td>0.026</td>\n",
       "      <td>All days</td>\n",
       "      <td>15 years and over</td>\n",
       "      <td>Sleeping</td>\n",
       "      <td>Both</td>\n",
       "    </tr>\n",
       "    <tr>\n",
       "      <th>2</th>\n",
       "      <td>2</td>\n",
       "      <td>2005</td>\n",
       "      <td>Annual</td>\n",
       "      <td>8.62</td>\n",
       "      <td>0.023</td>\n",
       "      <td>All days</td>\n",
       "      <td>15 years and over</td>\n",
       "      <td>Sleeping</td>\n",
       "      <td>Both</td>\n",
       "    </tr>\n",
       "    <tr>\n",
       "      <th>3</th>\n",
       "      <td>3</td>\n",
       "      <td>2006</td>\n",
       "      <td>Annual</td>\n",
       "      <td>8.63</td>\n",
       "      <td>0.024</td>\n",
       "      <td>All days</td>\n",
       "      <td>15 years and over</td>\n",
       "      <td>Sleeping</td>\n",
       "      <td>Both</td>\n",
       "    </tr>\n",
       "    <tr>\n",
       "      <th>4</th>\n",
       "      <td>4</td>\n",
       "      <td>2007</td>\n",
       "      <td>Annual</td>\n",
       "      <td>8.57</td>\n",
       "      <td>0.024</td>\n",
       "      <td>All days</td>\n",
       "      <td>15 years and over</td>\n",
       "      <td>Sleeping</td>\n",
       "      <td>Both</td>\n",
       "    </tr>\n",
       "  </tbody>\n",
       "</table>\n",
       "</div>"
      ],
      "text/plain": [
       "   index  Year  Period  Avg hrs per day sleeping  Standard Error Type of Days  \\\n",
       "0      0  2003  Annual                      8.57           0.018     All days   \n",
       "1      1  2004  Annual                      8.55           0.026     All days   \n",
       "2      2  2005  Annual                      8.62           0.023     All days   \n",
       "3      3  2006  Annual                      8.63           0.024     All days   \n",
       "4      4  2007  Annual                      8.57           0.024     All days   \n",
       "\n",
       "           Age Group  Activity   Sex  \n",
       "0  15 years and over  Sleeping  Both  \n",
       "1  15 years and over  Sleeping  Both  \n",
       "2  15 years and over  Sleeping  Both  \n",
       "3  15 years and over  Sleeping  Both  \n",
       "4  15 years and over  Sleeping  Both  "
      ]
     },
     "metadata": {},
     "output_type": "display_data"
    }
   ],
   "source": [
    "display(df_sleep.head())"
   ]
  },
  {
   "cell_type": "markdown",
   "id": "4af9698f",
   "metadata": {},
   "source": [
    "### Dataset Description: Time Use in Sleep by Americans\n",
    "\n",
    "This dataset shows how much time Americans spend sleeping per day, segmented by **year, gender, age group, and type of day** (e.g., weekend vs weekday).\n",
    "\n",
    "Each row represents a demographic segment for a specific year and day type.\n",
    "\n",
    "**Columns:**\n",
    "- Year, Period, Type of Days\n",
    "- Avg hrs per day sleeping, Standard Error\n",
    "- Age Group, Sex, Activity\n",
    "\n",
    "**Shape:** 945 rows × 9 columns\n",
    "\n",
    "This dataset is useful for studying behavioral sleep trends in the U.S. population and comparing sleep patterns across different groups over time.\n"
   ]
  },
  {
   "cell_type": "markdown",
   "id": "77b1fd59",
   "metadata": {},
   "source": [
    "### 😴 Data Type Classification: Time Americans Spend Sleeping\n",
    "\n",
    "**🔢 Quantitative columns:**\n",
    "- Avg hrs per day sleeping  \n",
    "- Standard Error  \n",
    "\n",
    "These values reflect the average daily sleep time and its statistical variation.\n",
    "\n",
    "**👥 Qualitative columns:**\n",
    "- Year  \n",
    "- Period  \n",
    "- Type of Days  \n",
    "- Age Group  \n",
    "- Activity  \n",
    "- Sex  \n",
    "\n",
    "These fields describe the structure of the observation: time frame, demographic group, and the kind of day (weekday vs weekend).\n"
   ]
  },
  {
   "cell_type": "code",
   "execution_count": 45,
   "id": "82c63688",
   "metadata": {},
   "outputs": [
    {
     "data": {
      "text/plain": [
       "array(['Sleeping'], dtype=object)"
      ]
     },
     "execution_count": 45,
     "metadata": {},
     "output_type": "execute_result"
    }
   ],
   "source": [
    "df_sleep[\"Activity\"].unique()"
   ]
  },
  {
   "cell_type": "code",
   "execution_count": 46,
   "id": "878fed57",
   "metadata": {},
   "outputs": [
    {
     "data": {
      "text/plain": [
       "array(['15 years and over', '15 to 24 years', '25 to 34 years',\n",
       "       '35 to 44 years', '45 to 54 years', '55 to 64 years',\n",
       "       '65 years and over'], dtype=object)"
      ]
     },
     "execution_count": 46,
     "metadata": {},
     "output_type": "execute_result"
    }
   ],
   "source": [
    "df_sleep[\"Age Group\"].unique()"
   ]
  },
  {
   "cell_type": "code",
   "execution_count": 47,
   "id": "e2576e0f",
   "metadata": {},
   "outputs": [
    {
     "data": {
      "text/plain": [
       "array(['All days', 'Nonholiday weekdays', 'Weekend days and holidays'],\n",
       "      dtype=object)"
      ]
     },
     "execution_count": 47,
     "metadata": {},
     "output_type": "execute_result"
    }
   ],
   "source": [
    "df_sleep[\"Type of Days\"].unique()"
   ]
  },
  {
   "cell_type": "code",
   "execution_count": 48,
   "id": "885a9beb",
   "metadata": {},
   "outputs": [
    {
     "data": {
      "text/plain": [
       "array(['Both', 'Men', 'Women'], dtype=object)"
      ]
     },
     "execution_count": 48,
     "metadata": {},
     "output_type": "execute_result"
    }
   ],
   "source": [
    "df_sleep[\"Sex\"].unique()"
   ]
  },
  {
   "cell_type": "markdown",
   "id": "b8680788",
   "metadata": {},
   "source": [
    "### 🔍 Observational Insight: Time Americans Spend Sleeping\n",
    "\n",
    "After exploring the dataset more closely, I discovered that it offers more demographic granularity than initially expected.\n",
    "\n",
    "**Relevant columns with diverse values:**\n",
    "- `Sex`: Both, Men, Women  \n",
    "- `Age Group`: 7 categories, including detailed age ranges from \"15 to 24 years\" to \"65 years and over\"  \n",
    "- `Type of Days`: All days, Nonholiday weekdays, Weekend days and holidays  \n",
    "\n",
    "**Interesting opportunities for analysis:**\n",
    "- Compare **average sleep duration by gender** to understand if men or women tend to sleep more.\n",
    "- Analyze **age-based sleep patterns** — e.g., do older people sleep more than younger ones?\n",
    "- Evaluate **differences between weekdays and weekends**, to detect possible sleep compensation behavior.\n",
    "\n",
    "**Why this matters:**\n",
    "- Can help assess whether people are getting enough rest on workdays.\n",
    "- May reveal patterns where individuals either oversleep or undersleep during weekends.\n",
    "- Could highlight lifestyle trade-offs — such as sacrificing sleep to pursue productivity or leisure.\n",
    "\n",
    "**Potential applications:**\n",
    "- **Healthcare research**: to better understand how sleep varies across age and lifestyle.\n",
    "- **Public policy and awareness**: campaigns promoting healthier sleep routines.\n",
    "- **Product development**: for sleep-related solutions (e.g., mattresses, apps, supplements) targeting sle\n"
   ]
  }
 ],
 "metadata": {
  "kernelspec": {
   "display_name": "Python 3",
   "language": "python",
   "name": "python3"
  },
  "language_info": {
   "codemirror_mode": {
    "name": "ipython",
    "version": 3
   },
   "file_extension": ".py",
   "mimetype": "text/x-python",
   "name": "python",
   "nbconvert_exporter": "python",
   "pygments_lexer": "ipython3",
   "version": "3.13.3"
  }
 },
 "nbformat": 4,
 "nbformat_minor": 5
}
