{
 "cells": [
  {
   "cell_type": "code",
   "execution_count": 1,
   "id": "e918cb14-c032-465e-afe7-fc5ba8ee77d7",
   "metadata": {},
   "outputs": [],
   "source": [
    "import pandas as pd"
   ]
  },
  {
   "cell_type": "code",
   "execution_count": 2,
   "id": "75572f25-834a-42de-bc46-4e4d7dd4d3c0",
   "metadata": {},
   "outputs": [],
   "source": [
    "# Credit Card Approval\n",
    "df_clean = pd.read_csv(\"clean_dataset.csv\")\n",
    "df_crx = pd.read_csv(\"crx.csv\")"
   ]
  },
  {
   "cell_type": "code",
   "execution_count": 3,
   "id": "a280bc8a-ffe2-4763-b68e-199ea232ebe2",
   "metadata": {},
   "outputs": [
    {
     "name": "stderr",
     "output_type": "stream",
     "text": [
      "C:\\Users\\User\\AppData\\Local\\Temp\\ipykernel_36784\\1382788775.py:2: DtypeWarning: Columns (5,6) have mixed types. Specify dtype option on import or set low_memory=False.\n",
      "  df_mental = pd.read_csv(\"Mental health Depression disorder Data.csv\")\n"
     ]
    }
   ],
   "source": [
    "# Mental Health\n",
    "df_mental = pd.read_csv(\"Mental health Depression disorder Data.csv\")"
   ]
  },
  {
   "cell_type": "code",
   "execution_count": 4,
   "id": "dbefe636-8ff9-4af9-8f8d-e72af34bda30",
   "metadata": {},
   "outputs": [],
   "source": [
    "df_sleep = pd.read_csv(\"Time Americans Spend Sleeping.csv\")"
   ]
  },
  {
   "cell_type": "code",
   "execution_count": 5,
   "id": "12dcd14a-f06a-4b9b-af91-fccd3c288d14",
   "metadata": {},
   "outputs": [
    {
     "data": {
      "text/plain": [
       "(690, 16)"
      ]
     },
     "execution_count": 5,
     "metadata": {},
     "output_type": "execute_result"
    }
   ],
   "source": [
    "df_clean.shape\n"
   ]
  },
  {
   "cell_type": "code",
   "execution_count": 6,
   "id": "59123288-f79e-4f3d-9e4b-b14889bd460d",
   "metadata": {},
   "outputs": [
    {
     "data": {
      "text/plain": [
       "Index(['Gender', 'Age', 'Debt', 'Married', 'BankCustomer', 'Industry',\n",
       "       'Ethnicity', 'YearsEmployed', 'PriorDefault', 'Employed', 'CreditScore',\n",
       "       'DriversLicense', 'Citizen', 'ZipCode', 'Income', 'Approved'],\n",
       "      dtype='object')"
      ]
     },
     "execution_count": 6,
     "metadata": {},
     "output_type": "execute_result"
    }
   ],
   "source": [
    "df_clean.columns"
   ]
  },
  {
   "cell_type": "code",
   "execution_count": 7,
   "id": "47e4bf42-77a6-42a2-afc8-29176f27895e",
   "metadata": {},
   "outputs": [
    {
     "data": {
      "text/html": [
       "<div>\n",
       "<style scoped>\n",
       "    .dataframe tbody tr th:only-of-type {\n",
       "        vertical-align: middle;\n",
       "    }\n",
       "\n",
       "    .dataframe tbody tr th {\n",
       "        vertical-align: top;\n",
       "    }\n",
       "\n",
       "    .dataframe thead th {\n",
       "        text-align: right;\n",
       "    }\n",
       "</style>\n",
       "<table border=\"1\" class=\"dataframe\">\n",
       "  <thead>\n",
       "    <tr style=\"text-align: right;\">\n",
       "      <th></th>\n",
       "      <th>Gender</th>\n",
       "      <th>Age</th>\n",
       "      <th>Debt</th>\n",
       "      <th>Married</th>\n",
       "      <th>BankCustomer</th>\n",
       "      <th>Industry</th>\n",
       "      <th>Ethnicity</th>\n",
       "      <th>YearsEmployed</th>\n",
       "      <th>PriorDefault</th>\n",
       "      <th>Employed</th>\n",
       "      <th>CreditScore</th>\n",
       "      <th>DriversLicense</th>\n",
       "      <th>Citizen</th>\n",
       "      <th>ZipCode</th>\n",
       "      <th>Income</th>\n",
       "      <th>Approved</th>\n",
       "    </tr>\n",
       "  </thead>\n",
       "  <tbody>\n",
       "    <tr>\n",
       "      <th>0</th>\n",
       "      <td>1</td>\n",
       "      <td>30.83</td>\n",
       "      <td>0.000</td>\n",
       "      <td>1</td>\n",
       "      <td>1</td>\n",
       "      <td>Industrials</td>\n",
       "      <td>White</td>\n",
       "      <td>1.25</td>\n",
       "      <td>1</td>\n",
       "      <td>1</td>\n",
       "      <td>1</td>\n",
       "      <td>0</td>\n",
       "      <td>ByBirth</td>\n",
       "      <td>202</td>\n",
       "      <td>0</td>\n",
       "      <td>1</td>\n",
       "    </tr>\n",
       "    <tr>\n",
       "      <th>1</th>\n",
       "      <td>0</td>\n",
       "      <td>58.67</td>\n",
       "      <td>4.460</td>\n",
       "      <td>1</td>\n",
       "      <td>1</td>\n",
       "      <td>Materials</td>\n",
       "      <td>Black</td>\n",
       "      <td>3.04</td>\n",
       "      <td>1</td>\n",
       "      <td>1</td>\n",
       "      <td>6</td>\n",
       "      <td>0</td>\n",
       "      <td>ByBirth</td>\n",
       "      <td>43</td>\n",
       "      <td>560</td>\n",
       "      <td>1</td>\n",
       "    </tr>\n",
       "    <tr>\n",
       "      <th>2</th>\n",
       "      <td>0</td>\n",
       "      <td>24.50</td>\n",
       "      <td>0.500</td>\n",
       "      <td>1</td>\n",
       "      <td>1</td>\n",
       "      <td>Materials</td>\n",
       "      <td>Black</td>\n",
       "      <td>1.50</td>\n",
       "      <td>1</td>\n",
       "      <td>0</td>\n",
       "      <td>0</td>\n",
       "      <td>0</td>\n",
       "      <td>ByBirth</td>\n",
       "      <td>280</td>\n",
       "      <td>824</td>\n",
       "      <td>1</td>\n",
       "    </tr>\n",
       "    <tr>\n",
       "      <th>3</th>\n",
       "      <td>1</td>\n",
       "      <td>27.83</td>\n",
       "      <td>1.540</td>\n",
       "      <td>1</td>\n",
       "      <td>1</td>\n",
       "      <td>Industrials</td>\n",
       "      <td>White</td>\n",
       "      <td>3.75</td>\n",
       "      <td>1</td>\n",
       "      <td>1</td>\n",
       "      <td>5</td>\n",
       "      <td>1</td>\n",
       "      <td>ByBirth</td>\n",
       "      <td>100</td>\n",
       "      <td>3</td>\n",
       "      <td>1</td>\n",
       "    </tr>\n",
       "    <tr>\n",
       "      <th>4</th>\n",
       "      <td>1</td>\n",
       "      <td>20.17</td>\n",
       "      <td>5.625</td>\n",
       "      <td>1</td>\n",
       "      <td>1</td>\n",
       "      <td>Industrials</td>\n",
       "      <td>White</td>\n",
       "      <td>1.71</td>\n",
       "      <td>1</td>\n",
       "      <td>0</td>\n",
       "      <td>0</td>\n",
       "      <td>0</td>\n",
       "      <td>ByOtherMeans</td>\n",
       "      <td>120</td>\n",
       "      <td>0</td>\n",
       "      <td>1</td>\n",
       "    </tr>\n",
       "  </tbody>\n",
       "</table>\n",
       "</div>"
      ],
      "text/plain": [
       "   Gender    Age   Debt  Married  BankCustomer     Industry Ethnicity  \\\n",
       "0       1  30.83  0.000        1             1  Industrials     White   \n",
       "1       0  58.67  4.460        1             1    Materials     Black   \n",
       "2       0  24.50  0.500        1             1    Materials     Black   \n",
       "3       1  27.83  1.540        1             1  Industrials     White   \n",
       "4       1  20.17  5.625        1             1  Industrials     White   \n",
       "\n",
       "   YearsEmployed  PriorDefault  Employed  CreditScore  DriversLicense  \\\n",
       "0           1.25             1         1            1               0   \n",
       "1           3.04             1         1            6               0   \n",
       "2           1.50             1         0            0               0   \n",
       "3           3.75             1         1            5               1   \n",
       "4           1.71             1         0            0               0   \n",
       "\n",
       "        Citizen  ZipCode  Income  Approved  \n",
       "0       ByBirth      202       0         1  \n",
       "1       ByBirth       43     560         1  \n",
       "2       ByBirth      280     824         1  \n",
       "3       ByBirth      100       3         1  \n",
       "4  ByOtherMeans      120       0         1  "
      ]
     },
     "metadata": {},
     "output_type": "display_data"
    }
   ],
   "source": [
    "display(df_clean.head())"
   ]
  },
  {
   "cell_type": "markdown",
   "id": "8cc8973d-2b81-4917-b557-f2002a3bf614",
   "metadata": {},
   "source": [
    "### Dataset Description: Credit Card Approval (clean_dataset.csv)\n",
    "\n",
    "This dataset contains structured information about individuals applying for credit cards. Each row represents a unique applicant.\n",
    "\n",
    "It includes demographic, financial, and employment-related attributes that may influence the credit approval decision.\n",
    "\n",
    "**Columns:**\n",
    "- Gender, Age, Debt, Married, BankCustomer, Industry, Ethnicity\n",
    "- YearsEmployed, PriorDefault, Employed, CreditScore, DriversLicense\n",
    "- Citizen, ZipCode, Income, Approved\n",
    "\n",
    "The dataset has **690 rows** and **16 columns**.\n",
    "\n",
    "This dataset is commonly used to build binary classification models for predicting whether a credit card application will be approved.\n"
   ]
  },
  {
   "cell_type": "markdown",
   "id": "2b1bb793-6e3e-4cfd-a424-f72ee6374c4b",
   "metadata": {},
   "source": [
    "### 🧾 Data Type Classification: Credit Card Approval (clean_dataset.csv)\n",
    "\n",
    "**🔢 Quantitative columns:**\n",
    "- Age  \n",
    "- Debt  \n",
    "- YearsEmployed  \n",
    "- CreditScore  \n",
    "- Income  \n",
    "\n",
    "These columns contain numerical values representing measurable features of applicants — age, financial indicators, and employment history.\n",
    "\n",
    "**🏷️ Qualitative columns:**\n",
    "- Gender  \n",
    "- Married  \n",
    "- BankCustomer  \n",
    "- Industry  \n",
    "- Ethnicity  \n",
    "- PriorDefault  \n",
    "- Employed  \n",
    "- DriversLicense  \n",
    "- Citizen  \n",
    "- ZipCode  \n",
    "- Approved  \n",
    "\n",
    "These columns represent categories or labels such as gender, employment status, citizenship, or application result. Many are binary (0/1), but still categorical in meaning.\n"
   ]
  },
  {
   "cell_type": "code",
   "execution_count": 8,
   "id": "557ae30a-f73f-44ce-b7ae-5083b57213ab",
   "metadata": {},
   "outputs": [
    {
     "data": {
      "text/plain": [
       "(689, 16)"
      ]
     },
     "execution_count": 8,
     "metadata": {},
     "output_type": "execute_result"
    }
   ],
   "source": [
    "df_crx.shape"
   ]
  },
  {
   "cell_type": "code",
   "execution_count": 9,
   "id": "e07e7fcf-ab6e-4917-a591-26fb0c109a11",
   "metadata": {},
   "outputs": [
    {
     "data": {
      "text/plain": [
       "Index(['b', '30.83', '0', 'u', 'g', 'w', 'v', '1.25', 't', 't.1', '01', 'f',\n",
       "       'g.1', '00202', '0.1', '+'],\n",
       "      dtype='object')"
      ]
     },
     "execution_count": 9,
     "metadata": {},
     "output_type": "execute_result"
    }
   ],
   "source": [
    "df_crx.columns"
   ]
  },
  {
   "cell_type": "code",
   "execution_count": 10,
   "id": "fe928da7-aa3f-47dc-9e36-5e37678072aa",
   "metadata": {},
   "outputs": [
    {
     "data": {
      "text/html": [
       "<div>\n",
       "<style scoped>\n",
       "    .dataframe tbody tr th:only-of-type {\n",
       "        vertical-align: middle;\n",
       "    }\n",
       "\n",
       "    .dataframe tbody tr th {\n",
       "        vertical-align: top;\n",
       "    }\n",
       "\n",
       "    .dataframe thead th {\n",
       "        text-align: right;\n",
       "    }\n",
       "</style>\n",
       "<table border=\"1\" class=\"dataframe\">\n",
       "  <thead>\n",
       "    <tr style=\"text-align: right;\">\n",
       "      <th></th>\n",
       "      <th>b</th>\n",
       "      <th>30.83</th>\n",
       "      <th>0</th>\n",
       "      <th>u</th>\n",
       "      <th>g</th>\n",
       "      <th>w</th>\n",
       "      <th>v</th>\n",
       "      <th>1.25</th>\n",
       "      <th>t</th>\n",
       "      <th>t.1</th>\n",
       "      <th>01</th>\n",
       "      <th>f</th>\n",
       "      <th>g.1</th>\n",
       "      <th>00202</th>\n",
       "      <th>0.1</th>\n",
       "      <th>+</th>\n",
       "    </tr>\n",
       "  </thead>\n",
       "  <tbody>\n",
       "    <tr>\n",
       "      <th>0</th>\n",
       "      <td>a</td>\n",
       "      <td>58.67</td>\n",
       "      <td>4.460</td>\n",
       "      <td>u</td>\n",
       "      <td>g</td>\n",
       "      <td>q</td>\n",
       "      <td>h</td>\n",
       "      <td>3.04</td>\n",
       "      <td>t</td>\n",
       "      <td>t</td>\n",
       "      <td>6</td>\n",
       "      <td>f</td>\n",
       "      <td>g</td>\n",
       "      <td>00043</td>\n",
       "      <td>560</td>\n",
       "      <td>+</td>\n",
       "    </tr>\n",
       "    <tr>\n",
       "      <th>1</th>\n",
       "      <td>a</td>\n",
       "      <td>24.50</td>\n",
       "      <td>0.500</td>\n",
       "      <td>u</td>\n",
       "      <td>g</td>\n",
       "      <td>q</td>\n",
       "      <td>h</td>\n",
       "      <td>1.50</td>\n",
       "      <td>t</td>\n",
       "      <td>f</td>\n",
       "      <td>0</td>\n",
       "      <td>f</td>\n",
       "      <td>g</td>\n",
       "      <td>00280</td>\n",
       "      <td>824</td>\n",
       "      <td>+</td>\n",
       "    </tr>\n",
       "    <tr>\n",
       "      <th>2</th>\n",
       "      <td>b</td>\n",
       "      <td>27.83</td>\n",
       "      <td>1.540</td>\n",
       "      <td>u</td>\n",
       "      <td>g</td>\n",
       "      <td>w</td>\n",
       "      <td>v</td>\n",
       "      <td>3.75</td>\n",
       "      <td>t</td>\n",
       "      <td>t</td>\n",
       "      <td>5</td>\n",
       "      <td>t</td>\n",
       "      <td>g</td>\n",
       "      <td>00100</td>\n",
       "      <td>3</td>\n",
       "      <td>+</td>\n",
       "    </tr>\n",
       "    <tr>\n",
       "      <th>3</th>\n",
       "      <td>b</td>\n",
       "      <td>20.17</td>\n",
       "      <td>5.625</td>\n",
       "      <td>u</td>\n",
       "      <td>g</td>\n",
       "      <td>w</td>\n",
       "      <td>v</td>\n",
       "      <td>1.71</td>\n",
       "      <td>t</td>\n",
       "      <td>f</td>\n",
       "      <td>0</td>\n",
       "      <td>f</td>\n",
       "      <td>s</td>\n",
       "      <td>00120</td>\n",
       "      <td>0</td>\n",
       "      <td>+</td>\n",
       "    </tr>\n",
       "    <tr>\n",
       "      <th>4</th>\n",
       "      <td>b</td>\n",
       "      <td>32.08</td>\n",
       "      <td>4.000</td>\n",
       "      <td>u</td>\n",
       "      <td>g</td>\n",
       "      <td>m</td>\n",
       "      <td>v</td>\n",
       "      <td>2.50</td>\n",
       "      <td>t</td>\n",
       "      <td>f</td>\n",
       "      <td>0</td>\n",
       "      <td>t</td>\n",
       "      <td>g</td>\n",
       "      <td>00360</td>\n",
       "      <td>0</td>\n",
       "      <td>+</td>\n",
       "    </tr>\n",
       "  </tbody>\n",
       "</table>\n",
       "</div>"
      ],
      "text/plain": [
       "   b  30.83      0  u  g  w  v  1.25  t t.1  01  f g.1  00202  0.1  +\n",
       "0  a  58.67  4.460  u  g  q  h  3.04  t   t   6  f   g  00043  560  +\n",
       "1  a  24.50  0.500  u  g  q  h  1.50  t   f   0  f   g  00280  824  +\n",
       "2  b  27.83  1.540  u  g  w  v  3.75  t   t   5  t   g  00100    3  +\n",
       "3  b  20.17  5.625  u  g  w  v  1.71  t   f   0  f   s  00120    0  +\n",
       "4  b  32.08  4.000  u  g  m  v  2.50  t   f   0  t   g  00360    0  +"
      ]
     },
     "metadata": {},
     "output_type": "display_data"
    }
   ],
   "source": [
    "display(df_crx.head())"
   ]
  },
  {
   "cell_type": "markdown",
   "id": "d86c92a4-73b6-4092-accc-3f67c8d0146f",
   "metadata": {},
   "source": [
    "### Dataset Description: CRX Dataset (crx.csv)\n",
    "\n",
    "This is a raw version of a credit card approval dataset with anonymized and non-descriptive column names.\n",
    "\n",
    "Each row represents a credit card application, but column names appear to be values from the first row or incorrectly parsed data (e.g., '30.83', '1.25', 't', '+').\n",
    "\n",
    "Due to the structure, this dataset likely needs preprocessing:\n",
    "- Renaming columns\n",
    "- Removing or using the first row as headers\n",
    "- Handling missing or categorical values\n",
    "\n",
    "**Shape:** 689 rows × 16 columns\n",
    "\n",
    "The dataset is useful for advanced preprocessing and feature engineering practice before applying classification models.\n"
   ]
  },
  {
   "cell_type": "markdown",
   "id": "f0398f8f-86f3-4071-9981-988966e419fc",
   "metadata": {},
   "source": [
    "### 🧾 Data Type Classification: Credit Card Applications (crx.csv)\n",
    "\n",
    "> ⚠️ Note: This dataset appears to be unprocessed. The column names are non-descriptive (e.g., \"b\", \"30.83\", \"u\"), likely due to using the first row as headers. Despite this, we can still classify data types based on their values.\n",
    "\n",
    "**🔢 Likely Quantitative columns:**\n",
    "- Columns containing numeric values such as:\n",
    "  - 30.83  \n",
    "  - 1.25  \n",
    "  - 0.1  \n",
    "  - 0  \n",
    "\n",
    "These values represent continuous or discrete numbers, likely corresponding to age, income, debt, or credit score fields.\n",
    "\n",
    "**🏷️ Likely Qualitative columns:**\n",
    "- Columns containing categorical or symbolic values such as:\n",
    "  - b  \n",
    "  - u  \n",
    "  - g  \n",
    "  - w  \n",
    "  - t  \n",
    "  - f  \n",
    "  - +  \n",
    "\n",
    "These values are likely encoded categories, such as employment status, housing type, previous default, or class label.\n",
    "\n",
    "Since the dataset lacks column descriptions, this classification is based on the data format rather than semantic meaning.\n"
   ]
  },
  {
   "cell_type": "code",
   "execution_count": 11,
   "id": "56ce0cfb-a38b-445d-893d-1f93164cc807",
   "metadata": {},
   "outputs": [
    {
     "data": {
      "text/plain": [
       "(108553, 11)"
      ]
     },
     "execution_count": 11,
     "metadata": {},
     "output_type": "execute_result"
    }
   ],
   "source": [
    "df_mental.shape"
   ]
  },
  {
   "cell_type": "code",
   "execution_count": 12,
   "id": "97e76261-3041-4ec4-861e-4bfc7a8270e6",
   "metadata": {},
   "outputs": [
    {
     "data": {
      "text/plain": [
       "Index(['index', 'Entity', 'Code', 'Year', 'Schizophrenia (%)',\n",
       "       'Bipolar disorder (%)', 'Eating disorders (%)', 'Anxiety disorders (%)',\n",
       "       'Drug use disorders (%)', 'Depression (%)',\n",
       "       'Alcohol use disorders (%)'],\n",
       "      dtype='object')"
      ]
     },
     "execution_count": 12,
     "metadata": {},
     "output_type": "execute_result"
    }
   ],
   "source": [
    "df_mental.columns"
   ]
  },
  {
   "cell_type": "code",
   "execution_count": 13,
   "id": "c13f46cc-d4a0-4949-b23a-a665dbada9da",
   "metadata": {},
   "outputs": [
    {
     "data": {
      "text/html": [
       "<div>\n",
       "<style scoped>\n",
       "    .dataframe tbody tr th:only-of-type {\n",
       "        vertical-align: middle;\n",
       "    }\n",
       "\n",
       "    .dataframe tbody tr th {\n",
       "        vertical-align: top;\n",
       "    }\n",
       "\n",
       "    .dataframe thead th {\n",
       "        text-align: right;\n",
       "    }\n",
       "</style>\n",
       "<table border=\"1\" class=\"dataframe\">\n",
       "  <thead>\n",
       "    <tr style=\"text-align: right;\">\n",
       "      <th></th>\n",
       "      <th>index</th>\n",
       "      <th>Entity</th>\n",
       "      <th>Code</th>\n",
       "      <th>Year</th>\n",
       "      <th>Schizophrenia (%)</th>\n",
       "      <th>Bipolar disorder (%)</th>\n",
       "      <th>Eating disorders (%)</th>\n",
       "      <th>Anxiety disorders (%)</th>\n",
       "      <th>Drug use disorders (%)</th>\n",
       "      <th>Depression (%)</th>\n",
       "      <th>Alcohol use disorders (%)</th>\n",
       "    </tr>\n",
       "  </thead>\n",
       "  <tbody>\n",
       "    <tr>\n",
       "      <th>0</th>\n",
       "      <td>0</td>\n",
       "      <td>Afghanistan</td>\n",
       "      <td>AFG</td>\n",
       "      <td>1990</td>\n",
       "      <td>0.16056</td>\n",
       "      <td>0.697779</td>\n",
       "      <td>0.101855</td>\n",
       "      <td>4.828830</td>\n",
       "      <td>1.677082</td>\n",
       "      <td>4.071831</td>\n",
       "      <td>0.672404</td>\n",
       "    </tr>\n",
       "    <tr>\n",
       "      <th>1</th>\n",
       "      <td>1</td>\n",
       "      <td>Afghanistan</td>\n",
       "      <td>AFG</td>\n",
       "      <td>1991</td>\n",
       "      <td>0.160312</td>\n",
       "      <td>0.697961</td>\n",
       "      <td>0.099313</td>\n",
       "      <td>4.829740</td>\n",
       "      <td>1.684746</td>\n",
       "      <td>4.079531</td>\n",
       "      <td>0.671768</td>\n",
       "    </tr>\n",
       "    <tr>\n",
       "      <th>2</th>\n",
       "      <td>2</td>\n",
       "      <td>Afghanistan</td>\n",
       "      <td>AFG</td>\n",
       "      <td>1992</td>\n",
       "      <td>0.160135</td>\n",
       "      <td>0.698107</td>\n",
       "      <td>0.096692</td>\n",
       "      <td>4.831108</td>\n",
       "      <td>1.694334</td>\n",
       "      <td>4.088358</td>\n",
       "      <td>0.670644</td>\n",
       "    </tr>\n",
       "    <tr>\n",
       "      <th>3</th>\n",
       "      <td>3</td>\n",
       "      <td>Afghanistan</td>\n",
       "      <td>AFG</td>\n",
       "      <td>1993</td>\n",
       "      <td>0.160037</td>\n",
       "      <td>0.698257</td>\n",
       "      <td>0.094336</td>\n",
       "      <td>4.830864</td>\n",
       "      <td>1.705320</td>\n",
       "      <td>4.096190</td>\n",
       "      <td>0.669738</td>\n",
       "    </tr>\n",
       "    <tr>\n",
       "      <th>4</th>\n",
       "      <td>4</td>\n",
       "      <td>Afghanistan</td>\n",
       "      <td>AFG</td>\n",
       "      <td>1994</td>\n",
       "      <td>0.160022</td>\n",
       "      <td>0.698469</td>\n",
       "      <td>0.092439</td>\n",
       "      <td>4.829423</td>\n",
       "      <td>1.716069</td>\n",
       "      <td>4.099582</td>\n",
       "      <td>0.669260</td>\n",
       "    </tr>\n",
       "  </tbody>\n",
       "</table>\n",
       "</div>"
      ],
      "text/plain": [
       "   index       Entity Code  Year Schizophrenia (%) Bipolar disorder (%)  \\\n",
       "0      0  Afghanistan  AFG  1990           0.16056             0.697779   \n",
       "1      1  Afghanistan  AFG  1991          0.160312             0.697961   \n",
       "2      2  Afghanistan  AFG  1992          0.160135             0.698107   \n",
       "3      3  Afghanistan  AFG  1993          0.160037             0.698257   \n",
       "4      4  Afghanistan  AFG  1994          0.160022             0.698469   \n",
       "\n",
       "  Eating disorders (%)  Anxiety disorders (%)  Drug use disorders (%)  \\\n",
       "0             0.101855               4.828830                1.677082   \n",
       "1             0.099313               4.829740                1.684746   \n",
       "2             0.096692               4.831108                1.694334   \n",
       "3             0.094336               4.830864                1.705320   \n",
       "4             0.092439               4.829423                1.716069   \n",
       "\n",
       "   Depression (%)  Alcohol use disorders (%)  \n",
       "0        4.071831                   0.672404  \n",
       "1        4.079531                   0.671768  \n",
       "2        4.088358                   0.670644  \n",
       "3        4.096190                   0.669738  \n",
       "4        4.099582                   0.669260  "
      ]
     },
     "metadata": {},
     "output_type": "display_data"
    }
   ],
   "source": [
    "display(df_mental.head())"
   ]
  },
  {
   "cell_type": "markdown",
   "id": "e5b83b04-e1b7-4250-a798-271cb415d7e9",
   "metadata": {
    "jp-MarkdownHeadingCollapsed": true
   },
   "source": [
    "### Dataset Description: Global Mental Health Disorders (Depression-focused)\n",
    "\n",
    "This dataset provides global statistics on various mental health disorders, measured as a **percentage of the population**.\n",
    "\n",
    "Each row represents a country (`Entity`) in a given `Year`.\n",
    "\n",
    "**Columns include:**\n",
    "- Entity, Code, Year\n",
    "- Schizophrenia (%)\n",
    "- Bipolar disorder (%)\n",
    "- Eating disorders (%)\n",
    "- Anxiety disorders (%)\n",
    "- Drug use disorders (%)\n",
    "- Depression (%)\n",
    "- Alcohol use disorders (%)\n",
    "\n",
    "**Shape:** 108,553 rows × 11 columns\n",
    "\n",
    "This dataset is valuable for analyzing trends and prevalence of mental disorders globally across time.\n"
   ]
  },
  {
   "cell_type": "markdown",
   "id": "c2da42f9-c63b-4ae4-ae9b-2913d4e318a6",
   "metadata": {},
   "source": [
    "### 🧠 Data Type Classification: Mental Health Data\n",
    "\n",
    "**🔢 Quantitative columns:**\n",
    "- Schizophrenia (%)  \n",
    "- Bipolar disorder (%)  \n",
    "- Eating disorders (%)  \n",
    "- Anxiety disorders (%)  \n",
    "- Drug use disorders (%)  \n",
    "- Depression (%)  \n",
    "- Alcohol use disorders (%)  \n",
    "\n",
    "These are percentage-based indicators measuring the prevalence of mental health conditions across populations.\n",
    "\n",
    "**🌍 Qualitative columns:**\n",
    "- Entity  \n",
    "- Code  \n",
    "- Year  \n",
    "\n",
    "These columns define the geopolitical and temporal context of each record: country, its code, and the year of observation.\n"
   ]
  },
  {
   "cell_type": "code",
   "execution_count": 14,
   "id": "cc4f0c35-88d8-4a2f-9415-fb39c1c4f05d",
   "metadata": {},
   "outputs": [
    {
     "data": {
      "text/plain": [
       "(945, 9)"
      ]
     },
     "execution_count": 14,
     "metadata": {},
     "output_type": "execute_result"
    }
   ],
   "source": [
    "df_sleep.shape"
   ]
  },
  {
   "cell_type": "code",
   "execution_count": 15,
   "id": "c332fba9-4f4d-47b5-8e41-d821db144583",
   "metadata": {},
   "outputs": [
    {
     "data": {
      "text/plain": [
       "Index(['index', 'Year', 'Period', 'Avg hrs per day sleeping', 'Standard Error',\n",
       "       'Type of Days', 'Age Group', 'Activity', 'Sex'],\n",
       "      dtype='object')"
      ]
     },
     "execution_count": 15,
     "metadata": {},
     "output_type": "execute_result"
    }
   ],
   "source": [
    "df_sleep.columns"
   ]
  },
  {
   "cell_type": "code",
   "execution_count": 16,
   "id": "96a883d5-a5bf-4e5a-94f1-2a927faf88a0",
   "metadata": {
    "scrolled": true
   },
   "outputs": [
    {
     "data": {
      "text/html": [
       "<div>\n",
       "<style scoped>\n",
       "    .dataframe tbody tr th:only-of-type {\n",
       "        vertical-align: middle;\n",
       "    }\n",
       "\n",
       "    .dataframe tbody tr th {\n",
       "        vertical-align: top;\n",
       "    }\n",
       "\n",
       "    .dataframe thead th {\n",
       "        text-align: right;\n",
       "    }\n",
       "</style>\n",
       "<table border=\"1\" class=\"dataframe\">\n",
       "  <thead>\n",
       "    <tr style=\"text-align: right;\">\n",
       "      <th></th>\n",
       "      <th>index</th>\n",
       "      <th>Year</th>\n",
       "      <th>Period</th>\n",
       "      <th>Avg hrs per day sleeping</th>\n",
       "      <th>Standard Error</th>\n",
       "      <th>Type of Days</th>\n",
       "      <th>Age Group</th>\n",
       "      <th>Activity</th>\n",
       "      <th>Sex</th>\n",
       "    </tr>\n",
       "  </thead>\n",
       "  <tbody>\n",
       "    <tr>\n",
       "      <th>0</th>\n",
       "      <td>0</td>\n",
       "      <td>2003</td>\n",
       "      <td>Annual</td>\n",
       "      <td>8.57</td>\n",
       "      <td>0.018</td>\n",
       "      <td>All days</td>\n",
       "      <td>15 years and over</td>\n",
       "      <td>Sleeping</td>\n",
       "      <td>Both</td>\n",
       "    </tr>\n",
       "    <tr>\n",
       "      <th>1</th>\n",
       "      <td>1</td>\n",
       "      <td>2004</td>\n",
       "      <td>Annual</td>\n",
       "      <td>8.55</td>\n",
       "      <td>0.026</td>\n",
       "      <td>All days</td>\n",
       "      <td>15 years and over</td>\n",
       "      <td>Sleeping</td>\n",
       "      <td>Both</td>\n",
       "    </tr>\n",
       "    <tr>\n",
       "      <th>2</th>\n",
       "      <td>2</td>\n",
       "      <td>2005</td>\n",
       "      <td>Annual</td>\n",
       "      <td>8.62</td>\n",
       "      <td>0.023</td>\n",
       "      <td>All days</td>\n",
       "      <td>15 years and over</td>\n",
       "      <td>Sleeping</td>\n",
       "      <td>Both</td>\n",
       "    </tr>\n",
       "    <tr>\n",
       "      <th>3</th>\n",
       "      <td>3</td>\n",
       "      <td>2006</td>\n",
       "      <td>Annual</td>\n",
       "      <td>8.63</td>\n",
       "      <td>0.024</td>\n",
       "      <td>All days</td>\n",
       "      <td>15 years and over</td>\n",
       "      <td>Sleeping</td>\n",
       "      <td>Both</td>\n",
       "    </tr>\n",
       "    <tr>\n",
       "      <th>4</th>\n",
       "      <td>4</td>\n",
       "      <td>2007</td>\n",
       "      <td>Annual</td>\n",
       "      <td>8.57</td>\n",
       "      <td>0.024</td>\n",
       "      <td>All days</td>\n",
       "      <td>15 years and over</td>\n",
       "      <td>Sleeping</td>\n",
       "      <td>Both</td>\n",
       "    </tr>\n",
       "  </tbody>\n",
       "</table>\n",
       "</div>"
      ],
      "text/plain": [
       "   index  Year  Period  Avg hrs per day sleeping  Standard Error Type of Days  \\\n",
       "0      0  2003  Annual                      8.57           0.018     All days   \n",
       "1      1  2004  Annual                      8.55           0.026     All days   \n",
       "2      2  2005  Annual                      8.62           0.023     All days   \n",
       "3      3  2006  Annual                      8.63           0.024     All days   \n",
       "4      4  2007  Annual                      8.57           0.024     All days   \n",
       "\n",
       "           Age Group  Activity   Sex  \n",
       "0  15 years and over  Sleeping  Both  \n",
       "1  15 years and over  Sleeping  Both  \n",
       "2  15 years and over  Sleeping  Both  \n",
       "3  15 years and over  Sleeping  Both  \n",
       "4  15 years and over  Sleeping  Both  "
      ]
     },
     "metadata": {},
     "output_type": "display_data"
    }
   ],
   "source": [
    "display(df_sleep.head())"
   ]
  },
  {
   "cell_type": "markdown",
   "id": "80dffd1f-f393-4d6e-9953-5cb3ca6dca05",
   "metadata": {},
   "source": [
    "### Dataset Description: Time Use in Sleep by Americans\n",
    "\n",
    "This dataset shows how much time Americans spend sleeping per day, segmented by **year, gender, age group, and type of day** (e.g., weekend vs weekday).\n",
    "\n",
    "Each row represents a demographic segment for a specific year and day type.\n",
    "\n",
    "**Columns:**\n",
    "- Year, Period, Type of Days\n",
    "- Avg hrs per day sleeping, Standard Error\n",
    "- Age Group, Sex, Activity\n",
    "\n",
    "**Shape:** 945 rows × 9 columns\n",
    "\n",
    "This dataset is useful for studying behavioral sleep trends in the U.S. population and comparing sleep patterns across different groups over time.\n"
   ]
  },
  {
   "cell_type": "markdown",
   "id": "bbedaf47-e57f-41fc-a5a0-a9aa57f4cec2",
   "metadata": {},
   "source": [
    "### 😴 Data Type Classification: Time Americans Spend Sleeping\n",
    "\n",
    "**🔢 Quantitative columns:**\n",
    "- Avg hrs per day sleeping  \n",
    "- Standard Error  \n",
    "\n",
    "These values reflect the average daily sleep time and its statistical variation.\n",
    "\n",
    "**👥 Qualitative columns:**\n",
    "- Year  \n",
    "- Period  \n",
    "- Type of Days  \n",
    "- Age Group  \n",
    "- Activity  \n",
    "- Sex  \n",
    "\n",
    "These fields describe the structure of the observation: time frame, demographic group, and the kind of day (weekday vs weekend).\n"
   ]
  }
 ],
 "metadata": {
  "kernelspec": {
   "display_name": "Python [conda env:base] *",
   "language": "python",
   "name": "conda-base-py"
  },
  "language_info": {
   "codemirror_mode": {
    "name": "ipython",
    "version": 3
   },
   "file_extension": ".py",
   "mimetype": "text/x-python",
   "name": "python",
   "nbconvert_exporter": "python",
   "pygments_lexer": "ipython3",
   "version": "3.12.7"
  }
 },
 "nbformat": 4,
 "nbformat_minor": 5
}
